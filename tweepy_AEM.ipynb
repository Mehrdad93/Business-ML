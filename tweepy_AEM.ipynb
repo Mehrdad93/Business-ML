{
  "nbformat": 4,
  "nbformat_minor": 0,
  "metadata": {
    "colab": {
      "name": "tweepy_AEM.ipynb",
      "provenance": [],
      "collapsed_sections": [],
      "include_colab_link": true
    },
    "kernelspec": {
      "name": "python3",
      "display_name": "Python 3"
    },
    "accelerator": "TPU"
  },
  "cells": [
    {
      "cell_type": "markdown",
      "metadata": {
        "id": "view-in-github",
        "colab_type": "text"
      },
      "source": [
        "<a href=\"https://colab.research.google.com/github/Mehrdad93/Business-ML/blob/master/tweepy_AEM.ipynb\" target=\"_parent\"><img src=\"https://colab.research.google.com/assets/colab-badge.svg\" alt=\"Open In Colab\"/></a>"
      ]
    },
    {
      "cell_type": "code",
      "metadata": {
        "id": "FE9V1UPvngLQ",
        "colab_type": "code",
        "colab": {
          "base_uri": "https://localhost:8080/",
          "height": 68
        },
        "outputId": "67738e40-2a4c-43e8-d046-796cf34bf7ca"
      },
      "source": [
        "#!pip install tweepy\n",
        "#!pip install textblob"
      ],
      "execution_count": null,
      "outputs": [
        {
          "output_type": "stream",
          "text": [
            "Requirement already satisfied: textblob in /usr/local/lib/python3.6/dist-packages (0.15.3)\n",
            "Requirement already satisfied: nltk>=3.1 in /usr/local/lib/python3.6/dist-packages (from textblob) (3.2.5)\n",
            "Requirement already satisfied: six in /usr/local/lib/python3.6/dist-packages (from nltk>=3.1->textblob) (1.12.0)\n"
          ],
          "name": "stdout"
        }
      ]
    },
    {
      "cell_type": "code",
      "metadata": {
        "id": "JckqakNJnlGX",
        "colab_type": "code",
        "colab": {}
      },
      "source": [
        "import tweepy\n",
        "import pandas as pd\n",
        "from textblob import TextBlob\n",
        "import seaborn as sns\n",
        "import matplotlib.pyplot as plt"
      ],
      "execution_count": null,
      "outputs": []
    },
    {
      "cell_type": "code",
      "metadata": {
        "id": "jI8zHe7RnlJy",
        "colab_type": "code",
        "colab": {}
      },
      "source": [
        "consumer_key = 'FgbIgV7ZDXYr6ZzJtPeSzZII0' \n",
        "consumer_secret = 'FMZbngbblknOl9V0cLN1jEIKOf5bRUZQywRLEywscoZwiJY7sf'\n",
        "access_token = '1202266636079661057-6oYzSEvoUvPpRMuGhhPE5Z7n2vihaW'\n",
        "access_token_secret = '4AVIy797ei74nOeAJatTXDfzk6tRZTGs0Jbu49elG1qqQ'\n",
        "\n",
        "auth = tweepy.OAuthHandler(consumer_key, consumer_secret)\n",
        "auth.set_access_token(access_token, access_token_secret)\n",
        "\n",
        "api = tweepy.API(auth, wait_on_rate_limit = True)"
      ],
      "execution_count": null,
      "outputs": []
    },
    {
      "cell_type": "code",
      "metadata": {
        "id": "BOzC3NXEnlNB",
        "colab_type": "code",
        "colab": {}
      },
      "source": [
        "# twitter_users = []\n",
        "# tweet_time = []\n",
        "# tweet_string = []\n",
        "\n",
        "# # Remove retweets and only include tweets in English\n",
        "# for tweet in tweepy.Cursor(api.search, q = 'fuel cell', count = 10000).items(10000):\n",
        "#             if (not tweet.retweeted) and ('RT @' not in tweet.text):\n",
        "#                 if tweet.lang == \"en\":\n",
        "#                     twitter_users.append(tweet.user.name)\n",
        "#                     tweet_time.append(tweet.created_at)\n",
        "#                     tweet_string.append(tweet.text)\n",
        "\n",
        "# X = [twitter_users, tweet_time, tweet_string]\n",
        "# print(len(twitter_users))\n",
        "\n",
        "def get_related_tweets(key_word):\n",
        "    twitter_users = []\n",
        "    tweet_time = []\n",
        "    tweet_string = [] \n",
        "\n",
        "    for tweet in tweepy.Cursor(api.search, q = key_word, count = 10000).items(10000):\n",
        "            if (not tweet.retweeted) and ('RT @' not in tweet.text):\n",
        "                if tweet.lang == \"en\":\n",
        "                    twitter_users.append(tweet.user.name)\n",
        "                    tweet_time.append(tweet.created_at)\n",
        "                    tweet_string.append(tweet.text)\n",
        "\n",
        "    df = pd.DataFrame({'name': twitter_users, 'time': tweet_time, 'tweet': tweet_string})\n",
        "    \n",
        "    return df\n"
      ],
      "execution_count": null,
      "outputs": []
    },
    {
      "cell_type": "code",
      "metadata": {
        "id": "iaMZ-QAenlQE",
        "colab_type": "code",
        "colab": {
          "base_uri": "https://localhost:8080/",
          "height": 419
        },
        "outputId": "cb0241ad-9e45-4cd9-a4b8-0efd300a31f2"
      },
      "source": [
        "#get_related_tweets(\"fuel cell\")"
      ],
      "execution_count": null,
      "outputs": [
        {
          "output_type": "execute_result",
          "data": {
            "text/html": [
              "<div>\n",
              "<style scoped>\n",
              "    .dataframe tbody tr th:only-of-type {\n",
              "        vertical-align: middle;\n",
              "    }\n",
              "\n",
              "    .dataframe tbody tr th {\n",
              "        vertical-align: top;\n",
              "    }\n",
              "\n",
              "    .dataframe thead th {\n",
              "        text-align: right;\n",
              "    }\n",
              "</style>\n",
              "<table border=\"1\" class=\"dataframe\">\n",
              "  <thead>\n",
              "    <tr style=\"text-align: right;\">\n",
              "      <th></th>\n",
              "      <th>name</th>\n",
              "      <th>time</th>\n",
              "      <th>tweet</th>\n",
              "    </tr>\n",
              "  </thead>\n",
              "  <tbody>\n",
              "    <tr>\n",
              "      <th>0</th>\n",
              "      <td>crosswalk enthusiast</td>\n",
              "      <td>2019-12-04 23:11:13</td>\n",
              "      <td>@Velovebikes No no, you say, I don't want a ca...</td>\n",
              "    </tr>\n",
              "    <tr>\n",
              "      <th>1</th>\n",
              "      <td>Sun5</td>\n",
              "      <td>2019-12-04 23:06:04</td>\n",
              "      <td>Trans-Atlantic JV Details Battery-Electric and...</td>\n",
              "    </tr>\n",
              "    <tr>\n",
              "      <th>2</th>\n",
              "      <td>ZeroAvia</td>\n",
              "      <td>2019-12-04 23:02:04</td>\n",
              "      <td>Currently, aviation accounts for almost a thir...</td>\n",
              "    </tr>\n",
              "    <tr>\n",
              "      <th>3</th>\n",
              "      <td>tary7873</td>\n",
              "      <td>2019-12-04 22:45:09</td>\n",
              "      <td>@Eyaaaad Hydralight 2 in 1 Emergency Flashligh...</td>\n",
              "    </tr>\n",
              "    <tr>\n",
              "      <th>4</th>\n",
              "      <td>Saeed Valadbaygi🇨🇦</td>\n",
              "      <td>2019-12-04 22:33:02</td>\n",
              "      <td>Global Fuel Cell and Battery Market Review 201...</td>\n",
              "    </tr>\n",
              "    <tr>\n",
              "      <th>...</th>\n",
              "      <td>...</td>\n",
              "      <td>...</td>\n",
              "      <td>...</td>\n",
              "    </tr>\n",
              "    <tr>\n",
              "      <th>1048</th>\n",
              "      <td>Chris Gilbride</td>\n",
              "      <td>2019-11-25 19:44:32</td>\n",
              "      <td>\"the #GoldenState's  extreme position in #ener...</td>\n",
              "    </tr>\n",
              "    <tr>\n",
              "      <th>1049</th>\n",
              "      <td>ENGins Biomedical</td>\n",
              "      <td>2019-11-25 19:42:33</td>\n",
              "      <td>Fuel cell for wearables runs on sweat https://...</td>\n",
              "    </tr>\n",
              "    <tr>\n",
              "      <th>1050</th>\n",
              "      <td>George Minter</td>\n",
              "      <td>2019-11-25 19:30:55</td>\n",
              "      <td>Sad! We need decisions using #Facts &amp;amp; #Sci...</td>\n",
              "    </tr>\n",
              "    <tr>\n",
              "      <th>1051</th>\n",
              "      <td>steve sarsfield</td>\n",
              "      <td>2019-11-25 19:05:35</td>\n",
              "      <td>@MrJamesMay Hi James - I used this (and the ne...</td>\n",
              "    </tr>\n",
              "    <tr>\n",
              "      <th>1052</th>\n",
              "      <td>Fox High STEM</td>\n",
              "      <td>2019-11-25 19:02:32</td>\n",
              "      <td>Hydrogen fuel cell boats! #FoxWarriorWay https...</td>\n",
              "    </tr>\n",
              "  </tbody>\n",
              "</table>\n",
              "<p>1053 rows × 3 columns</p>\n",
              "</div>"
            ],
            "text/plain": [
              "                      name  ...                                              tweet\n",
              "0     crosswalk enthusiast  ...  @Velovebikes No no, you say, I don't want a ca...\n",
              "1                     Sun5  ...  Trans-Atlantic JV Details Battery-Electric and...\n",
              "2                 ZeroAvia  ...  Currently, aviation accounts for almost a thir...\n",
              "3                 tary7873  ...  @Eyaaaad Hydralight 2 in 1 Emergency Flashligh...\n",
              "4       Saeed Valadbaygi🇨🇦  ...  Global Fuel Cell and Battery Market Review 201...\n",
              "...                    ...  ...                                                ...\n",
              "1048        Chris Gilbride  ...  \"the #GoldenState's  extreme position in #ener...\n",
              "1049     ENGins Biomedical  ...  Fuel cell for wearables runs on sweat https://...\n",
              "1050         George Minter  ...  Sad! We need decisions using #Facts &amp; #Sci...\n",
              "1051       steve sarsfield  ...  @MrJamesMay Hi James - I used this (and the ne...\n",
              "1052         Fox High STEM  ...  Hydrogen fuel cell boats! #FoxWarriorWay https...\n",
              "\n",
              "[1053 rows x 3 columns]"
            ]
          },
          "metadata": {
            "tags": []
          },
          "execution_count": 43
        }
      ]
    },
    {
      "cell_type": "code",
      "metadata": {
        "id": "TmylJG10nlYa",
        "colab_type": "code",
        "colab": {}
      },
      "source": [
        "# sentiment_score = TextBlob(\"good guy\").sentiment.polarity\n",
        "# print(\"Sentiment Polarity Score:\", sentiment_score)"
      ],
      "execution_count": null,
      "outputs": []
    },
    {
      "cell_type": "code",
      "metadata": {
        "id": "oPoq71tgnlcn",
        "colab_type": "code",
        "colab": {}
      },
      "source": [
        "# The polarity score is a float with values from -1 to +1\n",
        "# do not run!\n",
        "# df = get_related_tweets(\"fuel cell\")\n",
        "# df['sentiment'] = df['tweet'].apply(lambda tweet: TextBlob(tweet).sentiment.polarity)\n",
        "# print(df.head())\n",
        "\n",
        "# df_pos = df[df['sentiment'] > 0.0]\n",
        "# df_neg = df[df['sentiment'] < 0.0]\n",
        "# print(\"Number of Positive Tweets\", len(df_pos))\n",
        "# print(\"Number of Positive Tweets\", len(df_neg))"
      ],
      "execution_count": null,
      "outputs": []
    },
    {
      "cell_type": "code",
      "metadata": {
        "id": "Z7iqdKJ3Q3mR",
        "colab_type": "code",
        "colab": {
          "base_uri": "https://localhost:8080/",
          "height": 335
        },
        "outputId": "71de3dfa-89f9-4fb0-f881-6b03cdcab8ca"
      },
      "source": [
        "def get_sentiment(key_word):\n",
        "    df = get_related_tweets(key_word)\n",
        "    df['sentiment'] = df['tweet'].apply(lambda tweet: TextBlob(tweet).sentiment.polarity)\n",
        "    df_pos = df[df['sentiment'] > 0.0]\n",
        "    df_neut = df[df['sentiment'] == 0.0]\n",
        "    df_neg = df[df['sentiment'] < 0.0]\n",
        "\n",
        "    print(\"Number of Positive Tweets about {}\".format(key_word), len(df_pos))\n",
        "    print(\"Number of Negative Tweets about {}\".format(key_word), len(df_neg))\n",
        "    print(\"Number of Neutral Tweets about {}\".format(key_word), len(df_neut))\n",
        "    sns.set()\n",
        "    labels = ['Postive', 'Neutral', 'Negative']\n",
        "    heights = [len(df_pos), len(df_neut), len(df_neg)]\n",
        "    plt.bar(labels, heights, color = 'navy')\n",
        "    plt.title(key_word)\n",
        "    return(df)\n",
        "    \n",
        "#get_sentiment(\"fuel cell\")\n",
        "df = get_sentiment(\"renewable energy\")"
      ],
      "execution_count": null,
      "outputs": [
        {
          "output_type": "stream",
          "text": [
            "Number of Positive Tweets about renewable energy 1570\n",
            "Number of Negative Tweets about renewable energy 412\n",
            "Number of Neutral Tweets about renewable energy 1755\n"
          ],
          "name": "stdout"
        },
        {
          "output_type": "display_data",
          "data": {
            "image/png": "[encoded data removed]",
            "text/plain": [
              "<Figure size 432x288 with 1 Axes>"
            ]
          },
          "metadata": {
            "tags": []
          }
        }
      ]
    },
    {
      "cell_type": "code",
      "metadata": {
        "id": "LG9N0-ADia48",
        "colab_type": "code",
        "colab": {
          "base_uri": "https://localhost:8080/",
          "height": 556
        },
        "outputId": "3b48c657-1eba-4ed8-fab1-ecd469d3b354"
      },
      "source": [
        "def get_sentiment(key_word):\n",
        "    df = get_related_tweets(key_word)\n",
        "    df['sentiment'] = df['tweet'].apply(lambda tweet: TextBlob(tweet).sentiment.polarity)\n",
        "    df_pos = df[df['sentiment'] > 0.0]\n",
        "    df_neg = df[df['sentiment'] < 0.0]\n",
        "    print(df_pos)\n",
        "\n",
        "    print(\"Number of Positive Tweets about {}\".format(key_word), len(df_pos))\n",
        "    print(\"Number of Negative Tweets about {}\".format(key_word), len(df_neg))\n",
        "    sns.set()\n",
        "    labels = ['Postive', 'Negative']\n",
        "    heights = [len(df_pos), len(df_neg)]\n",
        "    plt.bar(labels, heights, color = 'navy')\n",
        "    plt.title(key_word)\n",
        "    \n",
        "get_sentiment(\"hydrogen fuel cell\")"
      ],
      "execution_count": null,
      "outputs": [
        {
          "output_type": "stream",
          "text": [
            "                          name  ... sentiment\n",
            "0          Sashank Chakraborty  ...  0.800000\n",
            "6      Er. Kamal Rijal, Ph. D.  ...  0.045455\n",
            "7                  Mark Boxall  ...  0.800000\n",
            "10              Joanna Sampson  ...  0.136364\n",
            "12    HZwo - Prof. von Unwerth  ...  0.500000\n",
            "..                         ...  ...       ...\n",
            "437       JoaquimAgustiCoderch  ...  0.800000\n",
            "439  Family Toyota of Burleson  ...  0.200000\n",
            "440          Global Automakers  ...  0.368182\n",
            "441               Colin Murphy  ...  0.150000\n",
            "443             Franco Ronconi  ...  0.136364\n",
            "\n",
            "[144 rows x 4 columns]\n",
            "Number of Positive Tweets about hydrogen fuel cell 144\n",
            "Number of Negative Tweets about hydrogen fuel cell 58\n"
          ],
          "name": "stdout"
        },
        {
          "output_type": "display_data",
          "data": {
            "image/png": "[encoded data removed]",
            "text/plain": [
              "<Figure size 432x288 with 1 Axes>"
            ]
          },
          "metadata": {
            "tags": []
          }
        }
      ]
    },
    {
      "cell_type": "code",
      "metadata": {
        "id": "0GcdXG90ia9Y",
        "colab_type": "code",
        "colab": {}
      },
      "source": [
        ""
      ],
      "execution_count": null,
      "outputs": []
    },
    {
      "cell_type": "code",
      "metadata": {
        "id": "PDL2A6S2nlVy",
        "colab_type": "code",
        "colab": {}
      },
      "source": [
        "import pandas as pd\n",
        "from sklearn.datasets import load_boston\n",
        "from sklearn.model_selection import train_test_split\n",
        "\n",
        "boston = load_boston()\n",
        "y = boston.target\n",
        "X = pd.DataFrame(boston.data, columns = boston.feature_names)\n",
        "np.random.seed(seed = 42)\n",
        "X['random'] = np.random.random(size = len(X))\n",
        "X_train, X_valid, y_train, y_valid = train_test_split(X, y, test_size = 0.8, random_state = 42)"
      ],
      "execution_count": null,
      "outputs": []
    },
    {
      "cell_type": "code",
      "metadata": {
        "id": "cWfHTU9UvgH-",
        "colab_type": "code",
        "colab": {}
      },
      "source": [
        "X.head()"
      ],
      "execution_count": null,
      "outputs": []
    },
    {
      "cell_type": "code",
      "metadata": {
        "id": "IfEgAD5bvgLT",
        "colab_type": "code",
        "colab": {}
      },
      "source": [
        "y"
      ],
      "execution_count": null,
      "outputs": []
    },
    {
      "cell_type": "code",
      "metadata": {
        "id": "L0gdSIKFvgOz",
        "colab_type": "code",
        "colab": {
          "base_uri": "https://localhost:8080/",
          "height": 122
        },
        "outputId": "67b7c2f4-9491-459e-8729-df81d62f50c5"
      },
      "source": [
        "!pip install vaderSentiment"
      ],
      "execution_count": null,
      "outputs": [
        {
          "output_type": "stream",
          "text": [
            "Collecting vaderSentiment\n",
            "\u001b[?25l  Downloading https://files.pythonhosted.org/packages/86/9e/c53e1fc61aac5ee490a6ac5e21b1ac04e55a7c2aba647bb8411c9aadf24e/vaderSentiment-3.2.1-py2.py3-none-any.whl (125kB)\n",
            "\r\u001b[K     |██▋                             | 10kB 18.3MB/s eta 0:00:01\r\u001b[K     |█████▏                          | 20kB 2.2MB/s eta 0:00:01\r\u001b[K     |███████▉                        | 30kB 3.3MB/s eta 0:00:01\r\u001b[K     |██████████▍                     | 40kB 2.1MB/s eta 0:00:01\r\u001b[K     |█████████████                   | 51kB 2.6MB/s eta 0:00:01\r\u001b[K     |███████████████▋                | 61kB 3.1MB/s eta 0:00:01\r\u001b[K     |██████████████████▎             | 71kB 3.6MB/s eta 0:00:01\r\u001b[K     |████████████████████▉           | 81kB 4.1MB/s eta 0:00:01\r\u001b[K     |███████████████████████▍        | 92kB 4.6MB/s eta 0:00:01\r\u001b[K     |██████████████████████████      | 102kB 3.5MB/s eta 0:00:01\r\u001b[K     |████████████████████████████▋   | 112kB 3.5MB/s eta 0:00:01\r\u001b[K     |███████████████████████████████▎| 122kB 3.5MB/s eta 0:00:01\r\u001b[K     |████████████████████████████████| 133kB 3.5MB/s \n",
            "\u001b[?25hInstalling collected packages: vaderSentiment\n",
            "Successfully installed vaderSentiment-3.2.1\n"
          ],
          "name": "stdout"
        }
      ]
    },
    {
      "cell_type": "code",
      "metadata": {
        "id": "NTd8GFXtWTnu",
        "colab_type": "code",
        "colab": {}
      },
      "source": [
        "# Vader Sentiment Analysis\n",
        "from vaderSentiment.vaderSentiment import SentimentIntensityAnalyzer \n",
        "\n",
        "def sentiment_scores(tweets): \n",
        "\n",
        "    # Create a SentimentIntensityAnalyzer object. \n",
        "    sid_obj = SentimentIntensityAnalyzer() \n",
        "\n",
        "    # polarity_scores method of SentimentIntensityAnalyzer \n",
        "    # oject gives a sentiment dictionary. \n",
        "    # which contains pos, neg, neu, and compound scores. \n",
        "\n",
        "    for i in range(len(tweets)):\n",
        "\n",
        "        sentence = tweets[i]\n",
        "        sentiment_dict = sid_obj.polarity_scores(sentence) \n",
        "\n",
        "        df['sentiment_new'][i:] = sentiment_dict['compound']\n",
        "\n",
        "    df_pos = df[df['sentiment_new'] > 0.05]\n",
        "    df_neg = df[df['sentiment_new'] < -0.05]\n",
        "\n",
        "    print(\"Number of Positive Tweets about {}\".format(key_word), len(df_pos))\n",
        "    print(\"Number of Negative Tweets about {}\".format(key_word), len(df_neg))\n",
        "    sns.set()\n",
        "    labels = ['Postive', 'Negative']\n",
        "    heights = [len(df_pos), len(df_neg)]\n",
        "    plt.bar(labels, heights, color = 'navy')\n",
        "    plt.title(key_word)\n",
        "    \n",
        "    return(df)\n",
        "    \n",
        "\n",
        "s = df[\"tweet\"]\n",
        "sentiment_scores(s) \n"
      ],
      "execution_count": null,
      "outputs": []
    },
    {
      "cell_type": "code",
      "metadata": {
        "id": "iUdyeN1Tvghx",
        "colab_type": "code",
        "colab": {
          "base_uri": "https://localhost:8080/",
          "height": 221
        },
        "outputId": "f0c2a560-3eb6-49d8-c6ba-76ba2d06ab12"
      },
      "source": [
        "s"
      ],
      "execution_count": null,
      "outputs": [
        {
          "output_type": "execute_result",
          "data": {
            "text/plain": [
              "0       Report Shows Massive Growth in U.K. Energy Sto...\n",
              "1       Hybrid power: ScottishPower unveils major rene...\n",
              "2       BP Accused of #greenwashing &amp; deceiving Pu...\n",
              "3       Another Big Year Could be Looming For Renewabl...\n",
              "4       There’s more to the renewable energy story - M...\n",
              "                              ...                        \n",
              "3732    @caracoesque31 @abandopa The thrust on renewab...\n",
              "3733    Kid: pilot, international spy, forensic scient...\n",
              "3734    We are happy to have Felix Muesgens of @BTU_Ne...\n",
              "3735    @MurderDice I think it’s the best use of renew...\n",
              "3736    \"Gas's price edge over renewable energy techno...\n",
              "Name: tweet, Length: 3737, dtype: object"
            ]
          },
          "metadata": {
            "tags": []
          },
          "execution_count": 11
        }
      ]
    },
    {
      "cell_type": "code",
      "metadata": {
        "id": "8lFhNN5TfPSI",
        "colab_type": "code",
        "colab": {
          "base_uri": "https://localhost:8080/",
          "height": 419
        },
        "outputId": "b1175598-6652-42d4-9b54-0f81991883fb"
      },
      "source": [
        "df"
      ],
      "execution_count": null,
      "outputs": [
        {
          "output_type": "execute_result",
          "data": {
            "text/html": [
              "<div>\n",
              "<style scoped>\n",
              "    .dataframe tbody tr th:only-of-type {\n",
              "        vertical-align: middle;\n",
              "    }\n",
              "\n",
              "    .dataframe tbody tr th {\n",
              "        vertical-align: top;\n",
              "    }\n",
              "\n",
              "    .dataframe thead th {\n",
              "        text-align: right;\n",
              "    }\n",
              "</style>\n",
              "<table border=\"1\" class=\"dataframe\">\n",
              "  <thead>\n",
              "    <tr style=\"text-align: right;\">\n",
              "      <th></th>\n",
              "      <th>name</th>\n",
              "      <th>time</th>\n",
              "      <th>tweet</th>\n",
              "      <th>sentiment</th>\n",
              "    </tr>\n",
              "  </thead>\n",
              "  <tbody>\n",
              "    <tr>\n",
              "      <th>0</th>\n",
              "      <td>Maia Energy</td>\n",
              "      <td>2019-12-05 16:22:52</td>\n",
              "      <td>Report Shows Massive Growth in U.K. Energy Sto...</td>\n",
              "      <td>0.000000</td>\n",
              "    </tr>\n",
              "    <tr>\n",
              "      <th>1</th>\n",
              "      <td>Maia Energy</td>\n",
              "      <td>2019-12-05 16:22:12</td>\n",
              "      <td>Hybrid power: ScottishPower unveils major rene...</td>\n",
              "      <td>0.062500</td>\n",
              "    </tr>\n",
              "    <tr>\n",
              "      <th>2</th>\n",
              "      <td>Elena Daniilidou</td>\n",
              "      <td>2019-12-05 16:22:02</td>\n",
              "      <td>BP Accused of #greenwashing &amp;amp; deceiving Pu...</td>\n",
              "      <td>0.000000</td>\n",
              "    </tr>\n",
              "    <tr>\n",
              "      <th>3</th>\n",
              "      <td>Green Energy</td>\n",
              "      <td>2019-12-05 16:21:34</td>\n",
              "      <td>Another Big Year Could be Looming For Renewabl...</td>\n",
              "      <td>0.000000</td>\n",
              "    </tr>\n",
              "    <tr>\n",
              "      <th>4</th>\n",
              "      <td>Marileeceo</td>\n",
              "      <td>2019-12-05 16:21:04</td>\n",
              "      <td>There’s more to the renewable energy story - M...</td>\n",
              "      <td>0.500000</td>\n",
              "    </tr>\n",
              "    <tr>\n",
              "      <th>...</th>\n",
              "      <td>...</td>\n",
              "      <td>...</td>\n",
              "      <td>...</td>\n",
              "      <td>...</td>\n",
              "    </tr>\n",
              "    <tr>\n",
              "      <th>3732</th>\n",
              "      <td>Shivangi Tiwari</td>\n",
              "      <td>2019-12-03 16:16:44</td>\n",
              "      <td>@caracoesque31 @abandopa The thrust on renewab...</td>\n",
              "      <td>0.200000</td>\n",
              "    </tr>\n",
              "    <tr>\n",
              "      <th>3733</th>\n",
              "      <td>aima</td>\n",
              "      <td>2019-12-03 16:16:35</td>\n",
              "      <td>Kid: pilot, international spy, forensic scient...</td>\n",
              "      <td>-0.200000</td>\n",
              "    </tr>\n",
              "    <tr>\n",
              "      <th>3734</th>\n",
              "      <td>Wolf Ketter</td>\n",
              "      <td>2019-12-03 16:16:09</td>\n",
              "      <td>We are happy to have Felix Muesgens of @BTU_Ne...</td>\n",
              "      <td>0.400000</td>\n",
              "    </tr>\n",
              "    <tr>\n",
              "      <th>3735</th>\n",
              "      <td>⚔️bloodyjackyl⚔️</td>\n",
              "      <td>2019-12-03 16:16:09</td>\n",
              "      <td>@MurderDice I think it’s the best use of renew...</td>\n",
              "      <td>1.000000</td>\n",
              "    </tr>\n",
              "    <tr>\n",
              "      <th>3736</th>\n",
              "      <td>Trey Pollard</td>\n",
              "      <td>2019-12-03 16:15:34</td>\n",
              "      <td>\"Gas's price edge over renewable energy techno...</td>\n",
              "      <td>0.066667</td>\n",
              "    </tr>\n",
              "  </tbody>\n",
              "</table>\n",
              "<p>3737 rows × 4 columns</p>\n",
              "</div>"
            ],
            "text/plain": [
              "                  name  ... sentiment\n",
              "0          Maia Energy  ...  0.000000\n",
              "1          Maia Energy  ...  0.062500\n",
              "2     Elena Daniilidou  ...  0.000000\n",
              "3         Green Energy  ...  0.000000\n",
              "4           Marileeceo  ...  0.500000\n",
              "...                ...  ...       ...\n",
              "3732   Shivangi Tiwari  ...  0.200000\n",
              "3733              aima  ... -0.200000\n",
              "3734       Wolf Ketter  ...  0.400000\n",
              "3735  ⚔️bloodyjackyl⚔️  ...  1.000000\n",
              "3736      Trey Pollard  ...  0.066667\n",
              "\n",
              "[3737 rows x 4 columns]"
            ]
          },
          "metadata": {
            "tags": []
          },
          "execution_count": 12
        }
      ]
    },
    {
      "cell_type": "code",
      "metadata": {
        "id": "psNBTPcxfPX2",
        "colab_type": "code",
        "colab": {}
      },
      "source": [
        ""
      ],
      "execution_count": null,
      "outputs": []
    },
    {
      "cell_type": "code",
      "metadata": {
        "id": "rrfJhbFSvgbU",
        "colab_type": "code",
        "colab": {}
      },
      "source": [
        ""
      ],
      "execution_count": null,
      "outputs": []
    }
  ]
}